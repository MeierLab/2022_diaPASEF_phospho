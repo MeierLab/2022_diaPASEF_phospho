{
 "cells": [
  {
   "cell_type": "code",
   "execution_count": 2,
   "id": "261e30e2",
   "metadata": {},
   "outputs": [],
   "source": [
    "import pandas as pd\n",
    "import numpy as np\n",
    "import matplotlib.pyplot as plt\n",
    "import seaborn as sns\n",
    "import plotly.express as px\n",
    "from pipeline_functions import *\n",
    "import plotly.graph_objects as go\n",
    "from plotly.subplots import make_subplots\n",
    "import datashader as ds\n",
    "import plotly.graph_objects as go\n",
    "import plotly.figure_factory as ff"
   ]
  },
  {
   "cell_type": "code",
   "execution_count": 8,
   "id": "56370e92",
   "metadata": {},
   "outputs": [],
   "source": [
    "import plotly as pl"
   ]
  },
  {
   "cell_type": "code",
   "execution_count": 9,
   "id": "91cc4537",
   "metadata": {},
   "outputs": [
    {
     "name": "stdout",
     "output_type": "stream",
     "text": [
      "5.4.0\n"
     ]
    }
   ],
   "source": [
    "print(pl.__version__)"
   ]
  },
  {
   "cell_type": "code",
   "execution_count": 2,
   "id": "2bdc0020",
   "metadata": {},
   "outputs": [],
   "source": [
    "points7 = pd.read_csv('phospho_7min_points.csv')\n",
    "points10 = pd.read_csv('phospho_10min_points.csv')\n",
    "points15 = pd.read_csv('phospho_15min_points.csv')\n",
    "points21 = pd.read_csv('phospho_21min_points.csv')\n",
    "points30 = pd.read_csv('phospho_30min_points.csv')\n",
    "points60 = pd.read_csv('phospho_60min_points.csv')"
   ]
  },
  {
   "cell_type": "code",
   "execution_count": 51,
   "id": "b05ee88a",
   "metadata": {},
   "outputs": [
    {
     "name": "stdout",
     "output_type": "stream",
     "text": [
      "Index(['R.Condition', 'R.FileName', 'R.Fraction', 'R.Label', 'R.Replicate',\n",
      "       'PG.ProteinAccessions', 'PG.ProteinGroups', 'PG.Cscore',\n",
      "       'PG.Cscore (Run-Wise)', 'PG.Pvalue', 'PG.PValue (Run-Wise)',\n",
      "       'PG.Qvalue', 'PG.QValue (Run-Wise)', 'PG.RunEvidenceCount',\n",
      "       'PG.Quantity', 'PEP.GroupingKey', 'PEP.GroupingKeyType',\n",
      "       'PEP.IsProteotypic', 'PEP.NrOfMissedCleavages', 'PEP.StrippedSequence',\n",
      "       'PEP.Rank', 'PEP.RunEvidenceCount', 'PEP.UsedForProteinGroupQuantity',\n",
      "       'EG.IntPIMID', 'EG.iRTPredicted', 'EG.IsDecoy', 'EG.ModifiedPeptide',\n",
      "       'EG.ModifiedSequence', 'EG.UserGroup', 'EG.Workflow', 'EG.IsUserPeak',\n",
      "       'EG.IsVerified', 'EG.PEP', 'EG.Qvalue', 'EG.ApexRT',\n",
      "       'EG.DatapointsPerPeak', 'EG.iRTEmpirical', 'EG.PeakWidth',\n",
      "       'EG.RTPredicted', 'EG.AvgProfileQvalue', 'EG.MaxProfileQvalue',\n",
      "       'EG.MinProfileQvalue', 'EG.PercentileQvalue', 'EG.IsImputed',\n",
      "       'EG.ReferenceQuantity (Settings)', 'EG.TargetQuantity (Settings)',\n",
      "       'EG.TotalQuantity (Settings)', 'EG.UsedForPeptideQuantity',\n",
      "       'EG.UsedForProteinGroupQuantity', 'EG.Cscore', 'FG.Charge', 'FG.IntMID',\n",
      "       'FG.LabeledSequence', 'FG.PrecMz', 'FG.PrecMzCalibrated',\n",
      "       'FG.IonMobilityPeakWidth', 'FG.Quantity'],\n",
      "      dtype='object')\n"
     ]
    }
   ],
   "source": [
    "print(points10.columns)"
   ]
  },
  {
   "cell_type": "code",
   "execution_count": 44,
   "id": "110f4853",
   "metadata": {},
   "outputs": [],
   "source": [
    "tmp = points7['EG.DatapointsPerPeak']\n",
    "tmp = tmp[tmp < (np.median(tmp) + np.std(tmp))]\n",
    "tmp1 = points10['EG.DatapointsPerPeak']\n",
    "tmp1 = tmp1[tmp1 < (np.median(tmp1) + np.std(tmp1))]\n",
    "tmp2 = points15['EG.DatapointsPerPeak']\n",
    "tmp2 = tmp2[tmp2 < (np.median(tmp2) + np.std(tmp2))]\n",
    "tmp3 = points21['EG.DatapointsPerPeak']\n",
    "tmp3 = tmp3[tmp3 < (np.median(tmp3) + np.std(tmp3))]\n",
    "tmp4 = points30['EG.DatapointsPerPeak']\n",
    "tmp4 = tmp4[tmp4 < (np.median(tmp4) + np.std(tmp4))]\n",
    "tmp5 = points60['EG.DatapointsPerPeak']\n",
    "tmp5 = tmp5[tmp5 < (np.median(tmp5) + np.std(tmp5))]"
   ]
  },
  {
   "cell_type": "code",
   "execution_count": 4,
   "id": "02a548ec",
   "metadata": {},
   "outputs": [],
   "source": [
    "t7 = np.median(points7['EG.PeakWidth'].tolist())\n",
    "t10 = np.median(points10['EG.PeakWidth'].tolist())\n",
    "t15 = np.median(points15['EG.PeakWidth'].tolist())\n",
    "t21 = np.median(points21['EG.PeakWidth'].tolist())\n",
    "t30 = np.median(points30['EG.PeakWidth'].tolist())\n",
    "t60 = np.median(points60['EG.PeakWidth'].tolist())"
   ]
  },
  {
   "cell_type": "code",
   "execution_count": 5,
   "id": "3b6d89f8",
   "metadata": {},
   "outputs": [],
   "source": [
    "res = [t7,t10,t15,t21,t30,t60]"
   ]
  },
  {
   "cell_type": "code",
   "execution_count": 6,
   "id": "872dfcd9",
   "metadata": {},
   "outputs": [
    {
     "name": "stdout",
     "output_type": "stream",
     "text": [
      "[0.08317399024963379, 0.08317399024963379, 0.100764274597168, 0.1170282363891605, 0.138585090637207, 0.183042526245117]\n"
     ]
    }
   ],
   "source": [
    "print(res)"
   ]
  },
  {
   "cell_type": "code",
   "execution_count": 10,
   "id": "b599276d",
   "metadata": {},
   "outputs": [],
   "source": [
    "tmp = points7['EG.PeakWidth']\n",
    "tmp = tmp[tmp < (np.median(tmp) + np.std(tmp))]\n",
    "tmp1 = points10['EG.PeakWidth']\n",
    "tmp1 = tmp1[tmp1 < (np.median(tmp1) + np.std(tmp1))]\n",
    "tmp2 = points15['EG.PeakWidth']\n",
    "tmp2 = tmp2[tmp2 < (np.median(tmp2) + np.std(tmp2))]\n",
    "tmp3 = points21['EG.PeakWidth']\n",
    "tmp3 = tmp3[tmp3 < (np.median(tmp3) + np.std(tmp3))]\n",
    "tmp4 = points30['EG.PeakWidth']\n",
    "tmp4 = tmp4[tmp4 < (np.median(tmp4) + np.std(tmp4))]\n",
    "tmp5 = points60['EG.PeakWidth']\n",
    "tmp5 = tmp5[tmp5 < (np.median(tmp5) + np.std(tmp5))]"
   ]
  },
  {
   "cell_type": "code",
   "execution_count": 39,
   "id": "c46319ab",
   "metadata": {},
   "outputs": [],
   "source": [
    "tmp = points7['FG.IonMobilityPeakWidth']\n",
    "#tmp = tmp[tmp < (np.median(tmp) + np.std(tmp))]\n",
    "tmp1 = points10['FG.IonMobilityPeakWidth']\n",
    "#tmp1 = tmp1[tmp1 < (np.median(tmp1) + np.std(tmp1))]\n",
    "tmp2 = points15['FG.IonMobilityPeakWidth']\n",
    "#tmp2 = tmp2[tmp2 < (np.median(tmp2) + np.std(tmp2))]\n",
    "tmp3 = points21['FG.IonMobilityPeakWidth']\n",
    "#tmp3 = tmp3[tmp3 < (np.median(tmp3) + np.std(tmp3))]\n",
    "tmp4 = points30['FG.IonMobilityPeakWidth']\n",
    "#tmp4 = tmp4[tmp4 < (np.median(tmp4) + np.std(tmp4))]\n",
    "tmp5 = points60['FG.IonMobilityPeakWidth']\n",
    "#tmp5 = tmp5[tmp5 < (np.median(tmp5) + np.std(tmp5))]"
   ]
  },
  {
   "cell_type": "code",
   "execution_count": 40,
   "id": "bb2c7f1a",
   "metadata": {},
   "outputs": [],
   "source": [
    "tmp_7min = pd.DataFrame({'col1':tmp, 'col2':'7min'})\n",
    "tmp_10min = pd.DataFrame({'col1':tmp1, 'col2':'10min'})\n",
    "tmp_15min = pd.DataFrame({'col1':tmp2, 'col2':'15min'})\n",
    "tmp_21min = pd.DataFrame({'col1':tmp3, 'col2':'21min'})\n",
    "tmp_30min = pd.DataFrame({'col1':tmp4, 'col2':'30min'})\n",
    "tmp_60min = pd.DataFrame({'col1':tmp5, 'col2':'60min'})"
   ]
  },
  {
   "cell_type": "code",
   "execution_count": 12,
   "id": "52eae6d1",
   "metadata": {},
   "outputs": [],
   "source": [
    "df = pd.concat([tmp_7min, tmp_10min, tmp_15min, tmp_21min, tmp_30min, tmp_60min])"
   ]
  },
  {
   "cell_type": "code",
   "execution_count": 38,
   "id": "7c324677",
   "metadata": {},
   "outputs": [],
   "source": [
    "fig = go.Figure()\n",
    "fig.add_trace(go.Box(y = tmp_7min.iloc[:,0],marker_color = '#48cae4', name = '7 min'))\n",
    "fig.add_trace(go.Box(y = tmp_10min.iloc[:,0],marker_color = '#00b4d8', name = '10 min'))\n",
    "fig.add_trace(go.Box(y = tmp_15min.iloc[:,0],marker_color = '#0096c7', name = '15 min'))\n",
    "fig.add_trace(go.Box(y = tmp_21min.iloc[:,0],marker_color = '#0077b6', name = '21 min'))\n",
    "fig.add_trace(go.Box(y = tmp_30min.iloc[:,0],marker_color = '#023e8a', name = '30 min'))\n",
    "fig.add_trace(go.Box(y = tmp_60min.iloc[:,0],marker_color = '#03045e', name = '60 min'))\n",
    "fig.update_layout(template = 'simple_white', width = 566.929133865, height = 377.95275591, showlegend = False,\n",
    "                 xaxis_title = 'Gradient type', yaxis_title = 'LC peak width, min')\n",
    "fig.update_traces(boxpoints=False)\n",
    "fig.update_yaxes(showgrid = True, title_font=dict(size=12, family='Arial', color='black'),\n",
    "                tickfont = dict(\n",
    "      family = 'Arial',\n",
    "      size = 12,\n",
    "      color = 'black'\n",
    "      ))\n",
    "fig.update_xaxes(title_font=dict(size=12, family='Arial', color='black'),\n",
    "                tickfont = dict(\n",
    "      family = 'Arial',\n",
    "      size = 12,\n",
    "      color = 'black'\n",
    "      ))\n",
    "fig.write_image('fig3A.pdf')"
   ]
  },
  {
   "cell_type": "code",
   "execution_count": 44,
   "id": "10169dfc",
   "metadata": {},
   "outputs": [],
   "source": [
    "fig = go.Figure()\n",
    "fig.add_trace(go.Box(y = tmp_7min.iloc[:,0],marker_color = '#e85d04', name = '7 min'))\n",
    "fig.add_trace(go.Box(y = tmp_10min.iloc[:,0],marker_color = '#dc2f02', name = '10 min'))\n",
    "fig.add_trace(go.Box(y = tmp_15min.iloc[:,0],marker_color = '#d00000', name = '15 min'))\n",
    "fig.add_trace(go.Box(y = tmp_21min.iloc[:,0],marker_color = '#9d0208', name = '21 min'))\n",
    "fig.add_trace(go.Box(y = tmp_30min.iloc[:,0],marker_color = '#6a040f', name = '30 min'))\n",
    "fig.add_trace(go.Box(y = tmp_60min.iloc[:,0],marker_color = '#370617', name = '60 min'))\n",
    "fig.update_layout(template = 'simple_white', width = 566.929133865, height = 377.95275591, showlegend = False,\n",
    "                 xaxis_title = 'Gradient type', yaxis_title = 'IM peak width, min')\n",
    "fig.update_traces(boxpoints=False)\n",
    "fig.update_yaxes(showgrid = True, title_font=dict(size=12, family='Arial', color='black'),\n",
    "                tickfont = dict(\n",
    "      family = 'Arial',\n",
    "      size = 12,\n",
    "      color = 'black'\n",
    "      ))\n",
    "fig.update_xaxes(title_font=dict(size=12, family='Arial', color='black'),\n",
    "                tickfont = dict(\n",
    "      family = 'Arial',\n",
    "      size = 12,\n",
    "      color = 'black'\n",
    "      ))\n",
    "fig.write_image('fig3B.pdf')"
   ]
  },
  {
   "cell_type": "code",
   "execution_count": 10,
   "id": "a75afff1",
   "metadata": {},
   "outputs": [
    {
     "data": {
      "text/html": [
       "<div>\n",
       "<style scoped>\n",
       "    .dataframe tbody tr th:only-of-type {\n",
       "        vertical-align: middle;\n",
       "    }\n",
       "\n",
       "    .dataframe tbody tr th {\n",
       "        vertical-align: top;\n",
       "    }\n",
       "\n",
       "    .dataframe thead th {\n",
       "        text-align: right;\n",
       "    }\n",
       "</style>\n",
       "<table border=\"1\" class=\"dataframe\">\n",
       "  <thead>\n",
       "    <tr style=\"text-align: right;\">\n",
       "      <th></th>\n",
       "      <th>col1</th>\n",
       "      <th>col2</th>\n",
       "    </tr>\n",
       "  </thead>\n",
       "  <tbody>\n",
       "    <tr>\n",
       "      <th>0</th>\n",
       "      <td>2.639993</td>\n",
       "      <td>7min</td>\n",
       "    </tr>\n",
       "    <tr>\n",
       "      <th>1</th>\n",
       "      <td>3.004857</td>\n",
       "      <td>7min</td>\n",
       "    </tr>\n",
       "    <tr>\n",
       "      <th>2</th>\n",
       "      <td>4.086836</td>\n",
       "      <td>7min</td>\n",
       "    </tr>\n",
       "    <tr>\n",
       "      <th>3</th>\n",
       "      <td>3.434564</td>\n",
       "      <td>7min</td>\n",
       "    </tr>\n",
       "    <tr>\n",
       "      <th>4</th>\n",
       "      <td>3.006841</td>\n",
       "      <td>7min</td>\n",
       "    </tr>\n",
       "  </tbody>\n",
       "</table>\n",
       "</div>"
      ],
      "text/plain": [
       "       col1  col2\n",
       "0  2.639993  7min\n",
       "1  3.004857  7min\n",
       "2  4.086836  7min\n",
       "3  3.434564  7min\n",
       "4  3.006841  7min"
      ]
     },
     "execution_count": 10,
     "metadata": {},
     "output_type": "execute_result"
    }
   ],
   "source": [
    "df.head()"
   ]
  },
  {
   "cell_type": "code",
   "execution_count": 85,
   "id": "c5a6e31b",
   "metadata": {},
   "outputs": [],
   "source": [
    "fig = px.box(df, x = df['col2'], y = df['col1'])\n",
    "fig.update_layout(template = 'simple_white', yaxis_title = 'Ion mobility peak width, min',xaxis_title = 'Gradient length, min')\n",
    "fig.update_yaxes(showgrid = True)\n",
    "fig.write_image('fig9.pdf')"
   ]
  },
  {
   "cell_type": "code",
   "execution_count": 87,
   "id": "e26d3d2b",
   "metadata": {},
   "outputs": [],
   "source": [
    "t = [334,272,226,165,110,57]\n",
    "t1 = ['7 min','10 min','15 min','21 min','30 min','60 min']\n",
    "df = pd.DataFrame({'col1':t,'col2':t1})"
   ]
  },
  {
   "cell_type": "code",
   "execution_count": 98,
   "id": "3ecb40c9",
   "metadata": {},
   "outputs": [],
   "source": [
    "fig = px.bar(df, x = 'col2', y = 'col1', text = 'col1')\n",
    "fig.update_yaxes(showgrid = True)\n",
    "fig.update_layout(legend=dict(\n",
    "    orientation=\"h\",\n",
    "    yanchor=\"bottom\",\n",
    "    y=1.02,\n",
    "    xanchor=\"right\",\n",
    "    x=1\n",
    "),width = 5*200 + 100, height = 3*200 + 20, template = 'simple_white', \n",
    "                  xaxis_title = 'Gradient length, min',\n",
    "                  yaxis_title = 'Number of unique class I phosphoisoforms per gradient minute')\n",
    "fig.update_traces(textfont_size=12, textangle=0, textposition=\"outside\", cliponaxis=False,marker_line_color='black')\n",
    "fig.write_image('fig10.pdf')"
   ]
  },
  {
   "cell_type": "code",
   "execution_count": null,
   "id": "a9d3f5c6",
   "metadata": {},
   "outputs": [],
   "source": [
    "import pandas as pd\n",
    "import numpy as np\n",
    "import matplotlib.pyplot as plt\n",
    "import seaborn as sns\n",
    "import plotly.express as px\n",
    "from pipeline_functions import *\n",
    "import plotly.graph_objects as go\n",
    "from plotly.subplots import make_subplots\n",
    "import datashader as ds\n",
    "import plotly.graph_objects as go\n",
    "\n",
    "df = pd.read_csv('Phospho_short_gradient_all.csv')\n",
    "\n",
    "df = df[df['R.Condition'] != '45min']\n",
    "\n",
    "df_proc = preprocess_phospho(df, ['R.Condition','R.Replicate'],'R.Condition', 'PG.ProteinAccessions',\n",
    "                                     'PG.Genes',['PTM.SiteAA','PTM.SiteLocation'],'PTM.Quantity')\n",
    "df_proc = KNN_imputation(df_proc, ['R.Condition', 'R.Replicate'], 'R.Condition', 0.6, False)\n",
    "df_proc = norm_imputation(df_proc, ['R.Condition', 'R.Replicate'])\n",
    "df_proc = df_proc.set_index(['R.Condition','R.Replicate']).T\n",
    "df_proc = np.power(2, df_proc)\n",
    "df_proc = np.log10(df_proc)\n",
    "df_proc.columns = ['10min_1','10min_2','10min_3','10min_4',\n",
    "                  '15min_1','15min_2','15min_3','15min_4',\n",
    "                  '21min_1','21min_2','21min_3','21min_4',\n",
    "                  '30min_1','30min_2','30min_3','30min_4',\n",
    "                  '60min_1','60min_2','60min_3','60min_4',\n",
    "                  '7min_1','7min_2','7min_3','7min_4']\n",
    "df_sub = df_proc[['60min_1','60min_2','60min_3','60min_4']]\n",
    "\n",
    "\n",
    "\n",
    "#fig.write_image('f.pdf')             \n",
    "\n",
    "\n",
    "\n",
    "dc = ds.Canvas(plot_width=378, plot_height=378)\n",
    "df_ij = df_sub[['7min_1','7min_2']].dropna()\n",
    "da = dc.points(df_ij, x='7min_1', y='7min_2')\n",
    "zero_mask = da.values == 0\n",
    "da.values = da.values.astype(float)\n",
    "da.values[zero_mask] = np.nan\n",
    "\n",
    "correlation_function = callable = lambda x: np.corrcoef(x.T)\n",
    "\n",
    "fig = go.Figure()\n",
    "fig.add_trace(go.Heatmap(z=da,colorscale = 'viridis', showscale = False))\n",
    "fig.update_layout(template = 'simple_white', width = 377.95275591, height = 377.95275591, xaxis_title = '7 min rep 1',\n",
    "                 yaxis_title = '7 min rep 2', showlegend = False)\n",
    "fig.add_annotation(text=\"R² = 0.9565\",xref=\"x domain\",\n",
    "    yref=\"y domain\",\n",
    "                  x=0, y=0.9, showarrow=False)\n",
    "fig.update_yaxes( title_font=dict(size=12, family='Arial', color='black'),\n",
    "                tickfont = dict(\n",
    "      family = 'Arial',\n",
    "      size = 12,\n",
    "      color = 'black'\n",
    "      ))\n",
    "fig.update_xaxes(title_font=dict(size=14, family='Arial', color='black'),\n",
    "                tickfont = dict(\n",
    "      family = 'Arial',\n",
    "      size = 12,\n",
    "      color = 'black'\n",
    "      ))\n",
    "fig.write_image('fig3C.pdf')\n",
    "\n",
    "dc = ds.Canvas(plot_width=378, plot_height=378)\n",
    "df_ij = df_sub[['60min_1','60min_2']].dropna()\n",
    "da = dc.points(df_ij, x='60min_1', y='60min_2')\n",
    "zero_mask = da.values == 0\n",
    "da.values = da.values.astype(float)\n",
    "da.values[zero_mask] = np.nan\n",
    "\n",
    "correlation_function = callable = lambda x: np.corrcoef(x.T)\n",
    "\n",
    "fig = go.Figure()\n",
    "fig.add_trace(go.Heatmap(z=da,colorscale = 'viridis', showscale = False))\n",
    "fig.update_layout(template = 'simple_white', width = 377.95275591, height = 377.95275591, xaxis_title = '60 min rep 1',\n",
    "                 yaxis_title = '60 min rep 2', showlegend = False)\n",
    "fig.add_annotation(text=\"R² = 0.9691\",xref=\"x domain\",\n",
    "    yref=\"y domain\",\n",
    "                  x=0, y=0.9, showarrow=False)\n",
    "fig.update_yaxes( title_font=dict(size=12, family='Arial', color='black'),\n",
    "                tickfont = dict(\n",
    "      family = 'Arial',\n",
    "      size = 12,\n",
    "      color = 'black'\n",
    "      ))\n",
    "fig.update_xaxes(title_font=dict(size=14, family='Arial', color='black'),\n",
    "                tickfont = dict(\n",
    "      family = 'Arial',\n",
    "      size = 12,\n",
    "      color = 'black'\n",
    "      ))\n",
    "fig.write_image('fig3D.pdf')\n",
    "\n",
    "def plot_sample_correlations(df,correlation_function: callable = lambda x: np.corrcoef(x.T),mode: str = \"scatter\", log10: bool = True, binning: int = 10):\n",
    "    # pick and process data\n",
    "    df_sub = df\n",
    "    \n",
    "    if mode == \"scatter\":\n",
    "        # setup subplots and axes\n",
    "        fig = make_subplots(rows=len(df_sub.columns), cols=len(df_sub.columns), start_cell='bottom-left',\n",
    "                            shared_yaxes=True, shared_xaxes=True, horizontal_spacing=0.03, vertical_spacing=0.03)\n",
    "        i_range = (np.floor(np.nanmin(df_sub)), np.ceil(np.nanmax(df_sub))+1/binning)\n",
    "        j_range = (np.floor(np.nanmin(df_sub)), np.ceil(np.nanmax(df_sub))+1/binning)\n",
    "        i_width = int((i_range[1]-i_range[0]-1/binning)*binning+1)\n",
    "        j_width = int((j_range[1]-j_range[0]-1/binning)*binning+1)\n",
    "        \n",
    "        # fill plots\n",
    "        for i,ni in enumerate(df_sub.columns):\n",
    "            for j,nj in enumerate(df_sub.columns):\n",
    "                # apply datashader\n",
    "                dc = ds.Canvas(plot_width=i_width, plot_height=j_width, x_range=i_range, y_range=j_range)\n",
    "                df_ij = df_sub[[ni,nj]].dropna() if i!=j else pd.DataFrame(df_sub[ni].dropna())\n",
    "                da = dc.points(df_ij, x=ni, y=nj)\n",
    "                zero_mask = da.values == 0\n",
    "                da.values = da.values.astype(float)\n",
    "                da.values[zero_mask] = np.nan\n",
    "                \n",
    "                # add trace\n",
    "                fig.add_trace(\n",
    "                    go.Heatmap(z=da,coloraxis=\"coloraxis1\" if i!=j else \"coloraxis2\"),\n",
    "                    row=j+1, col=i+1\n",
    "                )\n",
    "                \n",
    "                # add annotations\n",
    "                if j == 0:\n",
    "                    fig.update_xaxes(title_text=ni, row=j+1, col=i+1, tickvals=list(range(0,i_width,binning)),\n",
    "                                     ticktext=np.round(da[nj].values[0:i_width:binning]))\n",
    "                if i == 0:\n",
    "                    fig.update_yaxes(title_text=nj, row=j+1, col=i+1, tickvals=list(range(0,j_width,binning)),\n",
    "                                     ticktext=np.round(da[ni].values[0:j_width:binning]))\n",
    "                if i!=j:\n",
    "                    fig.add_annotation(dict(text=str(np.round(np.min(correlation_function(df_sub[[ni,nj]].dropna())),4)),\n",
    "                                            x=binning, y=j_width, showarrow=False), row=j+1, col=i+1)\n",
    "        \n",
    "        # layout figure\n",
    "        fig.update_layout(template=\"simple_white\", coloraxis2=dict(showscale=False, colorscale=[\"black\", \"black\"]),\n",
    "                          width=i*200+100, height=j*200+50, margin_t=0)\n",
    "    elif mode==\"heatmap\":\n",
    "        da = np.ones((len(df_sub.columns), len(df_sub.columns)))\n",
    "        for i,ni in enumerate(df_sub.columns):\n",
    "            for j,nj in enumerate(df_sub.columns):\n",
    "                # filter data and store correlation values\n",
    "                df_ij = df_sub[[ni,nj]].dropna() if i!=j else pd.DataFrame(df_sub[ni].dropna())\n",
    "                if i!=j:\n",
    "                    da[i,j] = np.round(np.min(correlation_function(df_sub[[ni,nj]].dropna())),4)\n",
    "        # create figure and label axes\n",
    "        fig = go.Figure(data=go.Heatmap(z=da))\n",
    "        fig.update_xaxes(tickvals=list(range(0,i+1,1)),\n",
    "                          ticktext=list(df_sub.columns))\n",
    "        fig.update_yaxes(tickvals=list(range(0,j+1,1)),\n",
    "                          ticktext=list(df_sub.columns))\n",
    "        fig.update_layout(template=\"simple_white\", width=i*50+100, height=j*50+100)\n",
    "    else:\n",
    "        raise ValueError\n",
    "    return fig"
   ]
  },
  {
   "cell_type": "code",
   "execution_count": 6,
   "id": "bded10be",
   "metadata": {},
   "outputs": [],
   "source": [
    "cv = [9188, 7683, 4667]\n",
    "cv1 = [12609, 10600,  6784]\n",
    "ID = ['All phosphopeptides', 'CoV < 20%', 'CoV < 10%']\n",
    "ID1 = ['All phosphopeptides', 'CoV < 20%', 'CoV < 10%']\n",
    "ID2 = ['7 min gradient','7 min gradient','7 min gradient']\n",
    "ID3 = ['60 min gradient','60 min gradient','60 min gradient']\n",
    "df_7min = pd.DataFrame({'Num':cv, 'ID':ID, 'ID2':ID2})\n",
    "df_60min = pd.DataFrame({'Num':cv1, 'ID':ID1, 'ID2':ID3})"
   ]
  },
  {
   "cell_type": "code",
   "execution_count": 30,
   "id": "15525e9e",
   "metadata": {},
   "outputs": [],
   "source": [
    "fig = make_subplots(rows = 1, cols = 2, shared_yaxes = True, horizontal_spacing = 0)\n",
    "fig.add_trace(go.Bar(x = df_7min['ID'], y = df_7min['Num'], marker_color = ['#1A374D','#406882','#6998AB'],\n",
    "                    marker_line_color = 'black', text = df['Num']), row = 1, col = 1)\n",
    "fig.add_trace(go.Bar(x = df_60min['ID'], y = df_60min['Num'],marker_color = ['#1A374D','#406882','#6998AB'],\n",
    "                    marker_line_color = 'black', text = df_60min['Num']), row = 1, col = 2)\n",
    "fig.update_layout(template = 'simple_white', width = 620, height = 650, showlegend = False)\n",
    "fig.write_image('fig3E.pdf')"
   ]
  }
 ],
 "metadata": {
  "kernelspec": {
   "display_name": "Python 3",
   "language": "python",
   "name": "python3"
  },
  "language_info": {
   "codemirror_mode": {
    "name": "ipython",
    "version": 3
   },
   "file_extension": ".py",
   "mimetype": "text/x-python",
   "name": "python",
   "nbconvert_exporter": "python",
   "pygments_lexer": "ipython3",
   "version": "3.8.8"
  }
 },
 "nbformat": 4,
 "nbformat_minor": 5
}
