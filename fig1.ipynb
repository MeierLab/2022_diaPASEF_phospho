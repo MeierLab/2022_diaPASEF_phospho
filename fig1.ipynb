{
 "cells": [
  {
   "cell_type": "code",
   "execution_count": 1,
   "id": "76a58b70",
   "metadata": {},
   "outputs": [],
   "source": [
    "import pandas as pd\n",
    "import numpy as np\n",
    "import plotly.express as px\n",
    "import seaborn as sns\n",
    "import matplotlib.pyplot as plt\n",
    "import plotly.graph_objects as go\n",
    "import plotly.figure_factory as ff\n",
    "from plotly.subplots import make_subplots"
   ]
  },
  {
   "cell_type": "code",
   "execution_count": 2,
   "id": "ec314db5",
   "metadata": {},
   "outputs": [],
   "source": [
    "gr1 = pd.read_csv('7min.txt', sep = ' ')\n",
    "\n",
    "gr2 = pd.read_csv('30min.txt', sep = ' ')\n",
    "\n",
    "gr3 = pd.read_csv('60min.txt', sep = ' ')\n"
   ]
  },
  {
   "cell_type": "code",
   "execution_count": 20,
   "id": "68ac6030",
   "metadata": {},
   "outputs": [
    {
     "data": {
      "text/html": [
       "<div>\n",
       "<style scoped>\n",
       "    .dataframe tbody tr th:only-of-type {\n",
       "        vertical-align: middle;\n",
       "    }\n",
       "\n",
       "    .dataframe tbody tr th {\n",
       "        vertical-align: top;\n",
       "    }\n",
       "\n",
       "    .dataframe thead th {\n",
       "        text-align: right;\n",
       "    }\n",
       "</style>\n",
       "<table border=\"1\" class=\"dataframe\">\n",
       "  <thead>\n",
       "    <tr style=\"text-align: right;\">\n",
       "      <th></th>\n",
       "      <th>0.572</th>\n",
       "      <th>44879.00</th>\n",
       "    </tr>\n",
       "  </thead>\n",
       "  <tbody>\n",
       "    <tr>\n",
       "      <th>0</th>\n",
       "      <td>1.950</td>\n",
       "      <td>51070.0</td>\n",
       "    </tr>\n",
       "    <tr>\n",
       "      <th>1</th>\n",
       "      <td>3.329</td>\n",
       "      <td>50063.0</td>\n",
       "    </tr>\n",
       "    <tr>\n",
       "      <th>2</th>\n",
       "      <td>4.707</td>\n",
       "      <td>58130.0</td>\n",
       "    </tr>\n",
       "    <tr>\n",
       "      <th>3</th>\n",
       "      <td>6.085</td>\n",
       "      <td>62944.0</td>\n",
       "    </tr>\n",
       "    <tr>\n",
       "      <th>4</th>\n",
       "      <td>7.463</td>\n",
       "      <td>75925.0</td>\n",
       "    </tr>\n",
       "  </tbody>\n",
       "</table>\n",
       "</div>"
      ],
      "text/plain": [
       "   0.572  44879.00\n",
       "0  1.950   51070.0\n",
       "1  3.329   50063.0\n",
       "2  4.707   58130.0\n",
       "3  6.085   62944.0\n",
       "4  7.463   75925.0"
      ]
     },
     "execution_count": 20,
     "metadata": {},
     "output_type": "execute_result"
    }
   ],
   "source": [
    "gr1.head()"
   ]
  },
  {
   "cell_type": "code",
   "execution_count": 3,
   "id": "ec2d9ea9",
   "metadata": {},
   "outputs": [],
   "source": [
    "gr1.iloc[0,:] = gr1.columns\n",
    "gr1.columns = ['RT','Int']\n",
    "gr2.iloc[0,:] = gr2.columns\n",
    "gr2.columns = ['RT','Int']\n",
    "gr3.iloc[0,:] = gr3.columns\n",
    "gr3.columns = ['RT','Int']"
   ]
  },
  {
   "cell_type": "code",
   "execution_count": 42,
   "id": "b5555a68",
   "metadata": {},
   "outputs": [
    {
     "data": {
      "text/html": [
       "<div>\n",
       "<style scoped>\n",
       "    .dataframe tbody tr th:only-of-type {\n",
       "        vertical-align: middle;\n",
       "    }\n",
       "\n",
       "    .dataframe tbody tr th {\n",
       "        vertical-align: top;\n",
       "    }\n",
       "\n",
       "    .dataframe thead th {\n",
       "        text-align: right;\n",
       "    }\n",
       "</style>\n",
       "<table border=\"1\" class=\"dataframe\">\n",
       "  <thead>\n",
       "    <tr style=\"text-align: right;\">\n",
       "      <th></th>\n",
       "      <th>RT</th>\n",
       "      <th>Int</th>\n",
       "    </tr>\n",
       "  </thead>\n",
       "  <tbody>\n",
       "    <tr>\n",
       "      <th>0</th>\n",
       "      <td>0.000318</td>\n",
       "      <td>44879.00</td>\n",
       "    </tr>\n",
       "    <tr>\n",
       "      <th>1</th>\n",
       "      <td>0.001849</td>\n",
       "      <td>50063</td>\n",
       "    </tr>\n",
       "    <tr>\n",
       "      <th>2</th>\n",
       "      <td>0.002614</td>\n",
       "      <td>58130</td>\n",
       "    </tr>\n",
       "    <tr>\n",
       "      <th>3</th>\n",
       "      <td>0.003379</td>\n",
       "      <td>62944</td>\n",
       "    </tr>\n",
       "    <tr>\n",
       "      <th>4</th>\n",
       "      <td>0.004144</td>\n",
       "      <td>75925</td>\n",
       "    </tr>\n",
       "  </tbody>\n",
       "</table>\n",
       "</div>"
      ],
      "text/plain": [
       "         RT       Int\n",
       "0  0.000318  44879.00\n",
       "1  0.001849     50063\n",
       "2  0.002614     58130\n",
       "3  0.003379     62944\n",
       "4  0.004144     75925"
      ]
     },
     "execution_count": 42,
     "metadata": {},
     "output_type": "execute_result"
    }
   ],
   "source": [
    "gr1.head()"
   ]
  },
  {
   "cell_type": "code",
   "execution_count": 4,
   "id": "094c9250",
   "metadata": {},
   "outputs": [],
   "source": [
    "gr1['RT'] = gr1['RT'].astype('float')\n",
    "t = np.amax(gr1['RT'].tolist())\n",
    "gr1['RT'] = gr1['RT']/t"
   ]
  },
  {
   "cell_type": "code",
   "execution_count": 5,
   "id": "f2005fd8",
   "metadata": {},
   "outputs": [],
   "source": [
    "gr2['RT'] = gr2['RT'].astype('float')\n",
    "t = np.amax(gr2['RT'].tolist())\n",
    "gr2['RT'] = gr2['RT']/t"
   ]
  },
  {
   "cell_type": "code",
   "execution_count": 6,
   "id": "6be5b84a",
   "metadata": {},
   "outputs": [],
   "source": [
    "gr3['RT'] = gr3['RT'].astype('float')\n",
    "t = np.amax(gr3['RT'].tolist())\n",
    "gr3['RT'] = gr3['RT']/t"
   ]
  },
  {
   "cell_type": "code",
   "execution_count": 8,
   "id": "ff413abb",
   "metadata": {},
   "outputs": [],
   "source": [
    "fig = go.Figure()\n",
    "fig.add_trace(go.Scatter(x = gr1['RT'], y = gr1['Int'], fill = 'tozeroy', fillcolor = 'black',\n",
    "                        line_color = 'black',\n",
    "                        line = dict(width = 0.5)))\n",
    "fig.update_layout(template = 'simple_white', height = 300, width = 350)\n",
    "fig.update_yaxes(showticklabels = False)\n",
    "fig.update_xaxes(showticklabels = False)\n",
    "fig.write_image('fig1A.pdf')"
   ]
  },
  {
   "cell_type": "code",
   "execution_count": 9,
   "id": "39befd0c",
   "metadata": {},
   "outputs": [],
   "source": [
    "fig = go.Figure()\n",
    "fig.add_trace(go.Scatter(x = gr2['RT'], y = gr2['Int'], fill = 'tozeroy', fillcolor = 'black',\n",
    "                        line_color = 'black',\n",
    "                        line = dict(width = 0.5)))\n",
    "fig.update_layout(template = 'simple_white', height = 300, width = 450)\n",
    "fig.update_yaxes(showticklabels = False)\n",
    "fig.update_xaxes(showticklabels = False)\n",
    "fig.write_image('fig1B.pdf')"
   ]
  },
  {
   "cell_type": "code",
   "execution_count": 71,
   "id": "22618290",
   "metadata": {},
   "outputs": [],
   "source": [
    "fig = go.Figure()\n",
    "fig.add_trace(go.Scatter(x = gr3['RT'], y = gr3['Int'], fill = 'tozeroy', fillcolor = 'black',\n",
    "                        line_color = 'black',\n",
    "                        line = dict(width = 0.5)))\n",
    "fig.update_layout(template = 'simple_white', height = 300, width = 800)\n",
    "fig.update_yaxes(showticklabels = False)\n",
    "fig.update_xaxes(showticklabels = False)\n",
    "fig.write_image('fig1C.pdf')"
   ]
  }
 ],
 "metadata": {
  "kernelspec": {
   "display_name": "Python 3",
   "language": "python",
   "name": "python3"
  },
  "language_info": {
   "codemirror_mode": {
    "name": "ipython",
    "version": 3
   },
   "file_extension": ".py",
   "mimetype": "text/x-python",
   "name": "python",
   "nbconvert_exporter": "python",
   "pygments_lexer": "ipython3",
   "version": "3.8.8"
  }
 },
 "nbformat": 4,
 "nbformat_minor": 5
}
